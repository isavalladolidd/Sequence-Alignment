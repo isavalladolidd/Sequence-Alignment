{
 "cells": [
  {
   "cell_type": "code",
   "execution_count": 1,
   "id": "3118893e",
   "metadata": {},
   "outputs": [
    {
     "name": "stdout",
     "output_type": "stream",
     "text": [
      " ------------------------ NW- Global ------------------------ \n",
      "-G-A--T-TACA\n",
      "            \n",
      "G-C-AT-GC-U-\n",
      "score: 2 identity: 0.0\n",
      " ------------------------ SW- Local ------------------------ \n",
      "AT\n",
      "||\n",
      "AT\n",
      "score: 4 identity: 1.0\n"
     ]
    }
   ],
   "source": [
    "from alignment import needleman_wunsch, smith_waterman, markers\n",
    "\n",
    "s1, s2 = \"GATTACA\", \"GCATGCU\"\n",
    "score, ptr, a1, a2, total = needleman_wunsch(s1, s2, match=2, mismatch=-1, gap=-2)\n",
    "marks, ident = markers(a1, a2)\n",
    "print(' ------------------------ NW- Global ------------------------ ')\n",
    "print(a1); print(marks); print(a2)\n",
    "print(\"score:\", total, \"identity:\", ident)\n",
    "\n",
    "score, ptr, a1, a2, best_local = smith_waterman(s1, s2, match=2, mismatch=-1, gap=-2)\n",
    "marks, ident = markers(a1, a2)\n",
    "print(' ------------------------ SW- Local ------------------------ ')\n",
    "print(a1); print(marks); print(a2)\n",
    "print(\"score:\", best_local, \"identity:\", ident)\n"
   ]
  },
  {
   "cell_type": "code",
   "execution_count": null,
   "id": "94a70374",
   "metadata": {},
   "outputs": [],
   "source": []
  }
 ],
 "metadata": {
  "kernelspec": {
   "display_name": "Sequence-Alignment",
   "language": "python",
   "name": "python3"
  },
  "language_info": {
   "codemirror_mode": {
    "name": "ipython",
    "version": 3
   },
   "file_extension": ".py",
   "mimetype": "text/x-python",
   "name": "python",
   "nbconvert_exporter": "python",
   "pygments_lexer": "ipython3",
   "version": "3.11.0"
  }
 },
 "nbformat": 4,
 "nbformat_minor": 5
}
